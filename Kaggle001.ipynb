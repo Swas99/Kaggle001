{
  "nbformat": 4,
  "nbformat_minor": 0,
  "metadata": {
    "colab": {
      "name": "Kaggle001.ipynb",
      "version": "0.3.2",
      "provenance": [],
      "include_colab_link": true
    },
    "kernelspec": {
      "name": "python3",
      "display_name": "Python 3"
    }
  },
  "cells": [
    {
      "cell_type": "markdown",
      "metadata": {
        "id": "view-in-github",
        "colab_type": "text"
      },
      "source": [
        "<a href=\"https://colab.research.google.com/github/Swas99/Kaggle001/blob/master/Kaggle001.ipynb\" target=\"_parent\"><img src=\"https://colab.research.google.com/assets/colab-badge.svg\" alt=\"Open In Colab\"/></a>"
      ]
    },
    {
      "cell_type": "code",
      "metadata": {
        "id": "T1ZJ9nbSoFF1",
        "colab_type": "code",
        "colab": {}
      },
      "source": [
        "from google.colab import drive"
      ],
      "execution_count": 0,
      "outputs": []
    },
    {
      "cell_type": "code",
      "metadata": {
        "id": "Ta9MzsILp3xU",
        "colab_type": "code",
        "colab": {}
      },
      "source": [
        "drive.mount('/content/drive', force_remount =True)"
      ],
      "execution_count": 0,
      "outputs": []
    },
    {
      "cell_type": "code",
      "metadata": {
        "id": "NOU1dd6aqDeM",
        "colab_type": "code",
        "colab": {}
      },
      "source": [
        "import numpy as np\n",
        "import pandas as pd\n",
        "from sklearn import tree\n",
        "from sklearn import metrics\n",
        "from sklearn import linear_model\n",
        "from sklearn.feature_selection import RFE\n",
        "from sklearn.tree import DecisionTreeRegressor\n",
        "from sklearn.preprocessing import StandardScaler\n",
        "from sklearn.ensemble import RandomForestRegressor\n",
        "from keras.utils import to_categorical\n",
        "import matplotlib.pyplot as plt"
      ],
      "execution_count": 0,
      "outputs": []
    },
    {
      "cell_type": "markdown",
      "metadata": {
        "id": "uxa9gA__NfZ-",
        "colab_type": "text"
      },
      "source": [
        "# Data Analysis\n",
        "\n",
        "---\n",
        "\n"
      ]
    },
    {
      "cell_type": "code",
      "metadata": {
        "id": "2jaJwLMjyU6N",
        "colab_type": "code",
        "colab": {}
      },
      "source": [
        "#Read Data\n",
        "rawData = pd.read_csv('drive/My Drive/Kaggle001/train.csv')"
      ],
      "execution_count": 0,
      "outputs": []
    },
    {
      "cell_type": "code",
      "metadata": {
        "id": "jxF_IjjlyyKX",
        "colab_type": "code",
        "outputId": "9e7176a5-95f6-4ee5-cae8-35383eb106c1",
        "colab": {
          "base_uri": "https://localhost:8080/",
          "height": 255
        }
      },
      "source": [
        "#Print Column Names\n",
        "colNames = list(rawData)\n",
        "print(colNames)\n",
        "\n",
        "numberOfNaNsInCols = []\n",
        "totalRows = rawData.shape[0]\n",
        "\n",
        "for i in range(len(colNames)):\n",
        "    numberOfNaNsInCols.append(totalRows - rawData[pd.notnull(rawData[colNames[i]])].shape[0])\n",
        "\n",
        "print(\"Column Name\\t\\t\\tCount Of Unique Values / Number Of Missing Values\")\n",
        "for i in range(len(colNames)):\n",
        "  print(str(colNames[i]) + \" \\t\\t\\t\\t\" + str(rawData[colNames[i]].unique().shape[0]) + \" / \" + str(numberOfNaNsInCols[i]))\n",
        "    \n",
        "    \n",
        "# Gather Columns With Missing Value\n",
        "missingValueCols = []\n",
        "for i in range(len(colNames)):\n",
        "  if numberOfNaNsInCols[i] > 0 :\n",
        "    missingValueCols.append(colNames[i])\n",
        "\n",
        "print(\"\\nMissing Value Cols: \")\n",
        "print(missingValueCols)\n",
        "\n",
        "numericalMissingDataHeader = []\n",
        "numericalMissingDataMissingCount = []\n",
        "categoricalMissingDataHeader = []\n",
        "categoricalMissingDataMissingCount = []\n",
        "\n",
        "print(\"Numerical Missing Data\")\n",
        "for i in range(len(colNames)):\n",
        "  if numberOfNaNsInCols[i]>0:\n",
        "    if rawData[colNames[i]].unique().shape[0]>8: \n",
        "      numericalMissingDataHeader.append(colNames[i])\n",
        "      numericalMissingDataMissingCount.append(numberOfNaNsInCols[i])\n",
        "      print(str(colNames[i]) +  \" : \" + str(numberOfNaNsInCols[i]))\n",
        "      \n",
        "print(\"\\nCategorical Missing Data\")\n",
        "for i in range(len(colNames)):\n",
        "  if numberOfNaNsInCols[i]>0:\n",
        "    if rawData[colNames[i]].unique().shape[0]<8:\n",
        "      categoricalMissingDataHeader.append(colNames[i])\n",
        "      categoricalMissingDataMissingCount.append(numberOfNaNsInCols[i])\n",
        "      print(str(colNames[i]) +  \" : \" + str(numberOfNaNsInCols[i]))"
      ],
      "execution_count": 6,
      "outputs": [
        {
          "output_type": "stream",
          "text": [
            "['id', 'molecule_name', 'atom_index_0', 'atom_index_1', 'type', 'scalar_coupling_constant']\n",
            "Column Name\t\t\tCount Of Unique Values / Number Of Missing Values\n",
            "id \t\t\t\t4658147 / 0\n",
            "molecule_name \t\t\t\t85003 / 0\n",
            "atom_index_0 \t\t\t\t29 / 0\n",
            "atom_index_1 \t\t\t\t29 / 0\n",
            "type \t\t\t\t8 / 0\n",
            "scalar_coupling_constant \t\t\t\t2182935 / 0\n",
            "\n",
            "Missing Value Cols: \n",
            "[]\n",
            "Numerical Missing Data\n",
            "\n",
            "Categorical Missing Data\n"
          ],
          "name": "stdout"
        }
      ]
    },
    {
      "cell_type": "markdown",
      "metadata": {
        "id": "X8u-X0hyi1GZ",
        "colab_type": "text"
      },
      "source": [
        "# Not used now"
      ]
    },
    {
      "cell_type": "code",
      "metadata": {
        "id": "nL5ONlv29hBC",
        "colab_type": "code",
        "outputId": "424778b5-f2d1-4c0c-99fc-0c390a5dd6c6",
        "colab": {
          "base_uri": "https://localhost:8080/",
          "height": 119
        }
      },
      "source": [
        "data_1 = pd.read_csv('drive/My Drive/Kaggle001/structures.csv')\n",
        "print(data_1.head())"
      ],
      "execution_count": 9,
      "outputs": [
        {
          "output_type": "stream",
          "text": [
            "      molecule_name  atom_index atom         x         y         z\n",
            "0  dsgdb9nsd_000001           0    C -0.012698  1.085804  0.008001\n",
            "1  dsgdb9nsd_000001           1    H  0.002150 -0.006031  0.001976\n",
            "2  dsgdb9nsd_000001           2    H  1.011731  1.463751  0.000277\n",
            "3  dsgdb9nsd_000001           3    H -0.540815  1.447527 -0.876644\n",
            "4  dsgdb9nsd_000001           4    H -0.523814  1.437933  0.906397\n"
          ],
          "name": "stdout"
        }
      ]
    },
    {
      "cell_type": "code",
      "metadata": {
        "id": "lfUcrmYSL78U",
        "colab_type": "code",
        "colab": {}
      },
      "source": [
        "# def addMCData(colStart):\n",
        "  \n",
        "#   rawData[\"A1\"] = np.nan\n",
        "#   rawData[\"A1x\"] = np.nan\n",
        "#   rawData[\"A1y\"] = np.nan\n",
        "#   rawData[\"A1z\"] = np.nan\n",
        "#   rawData[\"A2\"] = np.nan\n",
        "#   rawData[\"A2x\"] = np.nan\n",
        "#   rawData[\"A2y\"] = np.nan\n",
        "#   rawData[\"A2z\"] = np.nan\n",
        "  \n",
        "  \n",
        "#   for index, i in rawData.iterrows():\n",
        "#     i.A1 = data_1.loc[(data_1['molecule_name'] == i['molecule_name']) & (data_1['atom_index'] == i.atom_index_0)].atom[1]\n",
        "#     i.A1x = data_1.loc[(data_1['molecule_name'] == i['molecule_name']) & (data_1['atom_index'] == i.atom_index_0)].x[1]\n",
        "#     i.A1y = data_1.loc[(data_1['molecule_name'] == i['molecule_name']) & (data_1['atom_index'] == i.atom_index_0)].y[1]\n",
        "#     i.A1z = data_1.loc[(data_1['molecule_name'] == i['molecule_name']) & (data_1['atom_index'] == i.atom_index_0)].z[1]\n",
        "#     i.A2 = data_1.loc[(data_1['molecule_name'] == i['molecule_name']) & (data_1['atom_index'] == i.atom_index_1)].atom[1]\n",
        "#     i.A2x = data_1.loc[(data_1['molecule_name'] == i['molecule_name']) & (data_1['atom_index'] == i.atom_index_1)].x[1]\n",
        "#     i.A2y = data_1.loc[(data_1['molecule_name'] == i['molecule_name']) & (data_1['atom_index'] == i.atom_index_1)].y[1]\n",
        "#     i.A2z = data_1.loc[(data_1['molecule_name'] == i['molecule_name']) & (data_1['atom_index'] == i.atom_index_1)].z[1]\n",
        "    \n",
        "    \n",
        "#   print(rawData)\n",
        "# #     rawData[]\n",
        "# #     i['colStart'] = data_1[i.molecule_name == data_1.molecule_name and data_1.atom_index == i.atom_index_0].atom\n",
        "# #     data_1[i.molecule_name == data_1.molecule_name and data_1.atom_index == i.atom_index_0].x\n",
        "# #     data_1[i.molecule_name == data_1.molecule_name and data_1.atom_index == i.atom_index_0].y\n",
        "# #     data_1[i.molecule_name == data_1.molecule_name and data_1.atom_index == i.atom_index_0].z\n",
        "    \n",
        "    \n",
        "    \n",
        "    \n",
        "# addMCData(len(list(rawData))+1)\n",
        "  \n",
        "  "
      ],
      "execution_count": 0,
      "outputs": []
    },
    {
      "cell_type": "markdown",
      "metadata": {
        "id": "HbUsKuHieE8e",
        "colab_type": "text"
      },
      "source": [
        "# Data Processing"
      ]
    },
    {
      "cell_type": "code",
      "metadata": {
        "id": "zJ4LKeFeKmJj",
        "colab_type": "code",
        "colab": {}
      },
      "source": [
        "rawData = pd.read_csv('drive/My Drive/Kaggle001/train.csv')"
      ],
      "execution_count": 0,
      "outputs": []
    },
    {
      "cell_type": "code",
      "metadata": {
        "id": "sCicG8OkSFDX",
        "colab_type": "code",
        "colab": {}
      },
      "source": [
        "\n",
        "molecule_names = rawData.molecule_name.unique()\n",
        "molecule_names_dict = dict(zip(molecule_names, range(len(molecule_names))))\n",
        "rawData = rawData.applymap(lambda s: molecule_names_dict.get(s) if s in molecule_names_dict else s)\n",
        "\n",
        "m_type = rawData.type.unique()\n",
        "m_type_dict = dict(zip(m_type, range(len(m_type))))\n",
        "rawData = rawData.applymap(lambda s: m_type_dict.get(s) if s in m_type_dict else s)"
      ],
      "execution_count": 0,
      "outputs": []
    },
    {
      "cell_type": "code",
      "metadata": {
        "id": "O1LPkyVWYub9",
        "colab_type": "code",
        "colab": {}
      },
      "source": [
        "\n",
        "def createValDataSetForValidation(rawData, fraction):\n",
        "  df1 = rawData\n",
        "#   for i in range(len(colNames)):\n",
        "#     df1 = removeNaNsFromRows(df1,colNames[i])\n",
        "\n",
        "  df1 = df1.sample(frac=1).reset_index(drop=True)\n",
        "  df1 = df1.sample(frac=1).reset_index(drop=True)\n",
        "  \n",
        "  validationSet = df1.head(int(df1.shape[0] * fraction))\n",
        "  \n",
        "  return validationSet"
      ],
      "execution_count": 0,
      "outputs": []
    },
    {
      "cell_type": "code",
      "metadata": {
        "id": "BWjqb3zBJHU7",
        "colab_type": "code",
        "colab": {}
      },
      "source": [
        "validationSet = createValDataSetForValidation(rawData, .1)\n",
        "rawData = rawData.drop(validationSet.id)\n",
        "rawData = rawData.reset_index(drop=True)\n",
        "validationSet = validationSet.reset_index(drop=True)"
      ],
      "execution_count": 0,
      "outputs": []
    },
    {
      "cell_type": "code",
      "metadata": {
        "id": "szQD4LUHrhtC",
        "colab_type": "code",
        "colab": {}
      },
      "source": [
        "TEST_DATA = pd.read_csv('drive/My Drive/Kaggle001/test.csv')"
      ],
      "execution_count": 0,
      "outputs": []
    },
    {
      "cell_type": "code",
      "metadata": {
        "id": "8TlAG1lFsEhS",
        "colab_type": "code",
        "colab": {}
      },
      "source": [
        "TEST_DATA = TEST_DATA.applymap(lambda s: m_type_dict.get(s) if s in m_type_dict else s)\n",
        "TEST_DATA = TEST_DATA.applymap(lambda s: molecule_names_dict.get(s) if s in molecule_names_dict else s)"
      ],
      "execution_count": 0,
      "outputs": []
    },
    {
      "cell_type": "code",
      "metadata": {
        "id": "p7o2LCw6siRo",
        "colab_type": "code",
        "colab": {}
      },
      "source": [
        "# m_type = testData.type.unique()\n",
        "molecule_names = TEST_DATA.molecule_name.unique()\n",
        "# m_type_dict = dict(zip(m_type, range(len(m_type))))\n",
        "molecule_names_dict = dict(zip(molecule_names, range(len(molecule_names))))\n",
        "TEST_DATA = TEST_DATA.applymap(lambda s: molecule_names_dict.get(s) if s in molecule_names_dict else s)"
      ],
      "execution_count": 0,
      "outputs": []
    },
    {
      "cell_type": "markdown",
      "metadata": {
        "colab_type": "text",
        "id": "erMtvxeEKPE0"
      },
      "source": [
        "# Prediction"
      ]
    },
    {
      "cell_type": "code",
      "metadata": {
        "id": "fwpTI-_l_SQ-",
        "colab_type": "code",
        "colab": {}
      },
      "source": [
        "# ['id', 'molecule_name', 'atom_index_0', 'atom_index_1', 'type', 'scalar_coupling_constant']\n",
        "targetCol = ['scalar_coupling_constant']\n",
        "featureCols = ['molecule_name', 'atom_index_0', 'atom_index_1', 'type']\n",
        "\n",
        "\n",
        "_X1 =  pd.DataFrame()\n",
        "_X2 =  pd.DataFrame()"
      ],
      "execution_count": 0,
      "outputs": []
    },
    {
      "cell_type": "code",
      "metadata": {
        "id": "9M4IJmzQM21j",
        "colab_type": "code",
        "outputId": "ac1cb651-4188-4fa3-e013-3814aa55fc04",
        "colab": {
          "base_uri": "https://localhost:8080/",
          "height": 119
        }
      },
      "source": [
        "def fitLinearRegression(rawData, testDataSet, featureCols, targetCol):\n",
        "     \n",
        "  scaler = StandardScaler()\n",
        "  \n",
        "  X = rawData[featureCols]\n",
        "  y = rawData[targetCol]\n",
        "  x_train_scaled = scaler.fit_transform(X)\n",
        "  X = pd.DataFrame(x_train_scaled)\n",
        "  \n",
        "  lm = linear_model.LinearRegression()\n",
        "  model = lm.fit(X,y)\n",
        "  \n",
        "  print(lm.intercept_)\n",
        "  \n",
        "  print(featureCols)\n",
        "  print(lm.coef_)\n",
        "  \n",
        "  y_test = testDataSet[targetCol]\n",
        "  y_pred = lm.predict(testDataSet[featureCols])\n",
        "  \n",
        "  print(metrics.mean_absolute_error(y_test, y_pred))\n",
        "  print(metrics.mean_squared_error(y_test, y_pred))\n",
        "  print(np.sqrt(metrics.mean_absolute_error(y_test, y_pred)))\n",
        "  \n",
        "  \n",
        "  PRED = lm.predict( scaler.fit_transform(X))\n",
        "  __Y = pd.DataFrame(data = np.array(PRED), columns=['1'])\n",
        "  _X1.insert(0, '1', __Y['1'])\n",
        " \n",
        "  PRED = lm.predict( scaler.fit_transform(TEST_DATA[featureCols]))\n",
        "  __Y = pd.DataFrame(data = np.array(PRED), columns=['1'])  \n",
        "  _X2.insert(0, '1', __Y['1'])\n",
        "  \n",
        "#   PRED = lm.predict( scaler.fit_transform(TEST_DATA[featureCols]))\n",
        "#   ans = pd.DataFrame(TEST_DATA['id'])\n",
        "#   ans.insert(1, 'scalar_coupling_constant', PRED)\n",
        "#   ans.to_csv('drive/My Drive/Kaggle001/submission.csv', sep=',', index=False, encoding='utf-8')\n",
        "  \n",
        "\n",
        "  \n",
        "fitLinearRegression(rawData, validationSet, featureCols , targetCol)\n"
      ],
      "execution_count": 56,
      "outputs": [
        {
          "output_type": "stream",
          "text": [
            "[15.91522116]\n",
            "['molecule_name', 'atom_index_0', 'atom_index_1', 'type']\n",
            "[[ -0.74300628   3.3397731   -9.26633542 -24.36558339]]\n",
            "32780.74145233884\n",
            "1376366532.1170652\n",
            "181.05452618572903\n"
          ],
          "name": "stdout"
        }
      ]
    },
    {
      "cell_type": "code",
      "metadata": {
        "id": "g9UWVt4uMzBM",
        "colab_type": "code",
        "colab": {
          "base_uri": "https://localhost:8080/",
          "height": 68
        },
        "outputId": "228e8359-eb58-4ea7-eb6b-6375b8d544ba"
      },
      "source": [
        "def fitRegTModel(rawData, testDataSet, featureCols , targetCol):\n",
        "  \n",
        "  y = rawData[targetCol]\n",
        "  X = rawData[featureCols]\n",
        "  \n",
        "  \n",
        "  regression_model = DecisionTreeRegressor(criterion=\"mse\",min_samples_leaf=17) \n",
        "  regression_model.fit(X,y)\n",
        "  \n",
        "  y_test = testDataSet[targetCol]\n",
        "  y_pred = regression_model.predict(testDataSet[featureCols])\n",
        "  \n",
        "  print(metrics.mean_absolute_error(y_test, y_pred))\n",
        "  print(metrics.mean_squared_error(y_test, y_pred))\n",
        "  print(np.sqrt(metrics.mean_absolute_error(y_test, y_pred))) \n",
        "  \n",
        "  PRED = regression_model.predict(X)\n",
        "  __Y = pd.DataFrame(data = np.array(PRED), columns=['1'])\n",
        "  _X1.insert(1, '2', __Y['1']) \n",
        "  \n",
        "  PRED = regression_model.predict(TEST_DATA[featureCols])\n",
        "  __Y = pd.DataFrame(data = np.array(PRED), columns=['1'])  \n",
        "  _X2.insert(1, '2', __Y['1'])\n",
        "#   PRED = regression_model.predict(TEST_DATA[featureCols])\n",
        "#   ans = pd.DataFrame(TEST_DATA['id'])\n",
        "#   ans.insert(1, 'scalar_coupling_constant', PRED)\n",
        "#   ans.to_csv('drive/My Drive/Kaggle001/submission.csv', sep=',', index=False, encoding='utf-8')\n",
        "  \n",
        "  \n",
        "  \n",
        "fitRegTModel(rawData, validationSet, featureCols , targetCol)\n"
      ],
      "execution_count": 57,
      "outputs": [
        {
          "output_type": "stream",
          "text": [
            "2.9033279193621375\n",
            "32.88790497418383\n",
            "1.7039154671996313\n"
          ],
          "name": "stdout"
        }
      ]
    },
    {
      "cell_type": "code",
      "metadata": {
        "id": "3fml39ceBTxd",
        "colab_type": "code",
        "outputId": "6ba75c50-1a0a-4151-a742-531514b1cab6",
        "colab": {
          "base_uri": "https://localhost:8080/",
          "height": 156
        }
      },
      "source": [
        "from sklearn.model_selection import cross_val_score, GridSearchCV\n",
        "from sklearn.ensemble import RandomForestRegressor\n",
        "from sklearn.preprocessing import MinMaxScaler\n",
        "\n",
        "\n",
        "def rfr_model(testDataSet, X, y):\n",
        "  regression_model = RandomForestRegressor(criterion=\"mse\",min_samples_leaf=17) \n",
        "  regression_model.fit(X,y)\n",
        "  \n",
        "  y_test = testDataSet[targetCol]\n",
        "  y_pred = regression_model.predict(testDataSet[featureCols])\n",
        "  \n",
        "  print(metrics.mean_absolute_error(y_test, y_pred))\n",
        "  print(metrics.mean_squared_error(y_test, y_pred))\n",
        "  print(np.sqrt(metrics.mean_absolute_error(y_test, y_pred))) \n",
        "   \n",
        "  PRED = regression_model.predict(X)\n",
        "  __Y = pd.DataFrame(data = np.array(PRED), columns=['1'])\n",
        "  _X1.insert(2, '3', __Y['1'])\n",
        "  _X1.insert(3, '4', __Y['1'])\n",
        "  \n",
        "  PRED = regression_model.predict(TEST_DATA[featureCols])\n",
        "  __Y = pd.DataFrame(data = np.array(PRED), columns=['1'])  \n",
        "  _X2.insert(2, '3', __Y['1'])\n",
        "  _X2.insert(3, '4', __Y['1'])\n",
        "  \n",
        "#   PRED = regression_model.predict(TEST_DATA[featureCols])\n",
        "#   ans = pd.DataFrame(TEST_DATA['id'])\n",
        "#   ans.insert(1, 'scalar_coupling_constant', PRED)\n",
        "#   ans.to_csv('drive/My Drive/Kaggle001/submission.csv', sep=',', index=False, encoding='utf-8')\n",
        "  \n",
        "  \n",
        "rfr_model(validationSet, rawData[featureCols], rawData[targetCol])"
      ],
      "execution_count": 58,
      "outputs": [
        {
          "output_type": "stream",
          "text": [
            "/usr/local/lib/python3.6/dist-packages/sklearn/ensemble/forest.py:245: FutureWarning: The default value of n_estimators will change from 10 in version 0.20 to 100 in 0.22.\n",
            "  \"10 in version 0.20 to 100 in 0.22.\", FutureWarning)\n",
            "/usr/local/lib/python3.6/dist-packages/ipykernel_launcher.py:8: DataConversionWarning: A column-vector y was passed when a 1d array was expected. Please change the shape of y to (n_samples,), for example using ravel().\n",
            "  \n"
          ],
          "name": "stderr"
        },
        {
          "output_type": "stream",
          "text": [
            "2.9192077428977488\n",
            "32.677551250490026\n",
            "1.7085689166368878\n"
          ],
          "name": "stdout"
        }
      ]
    },
    {
      "cell_type": "code",
      "metadata": {
        "id": "ZD6hJrYLfkZb",
        "colab_type": "code",
        "colab": {
          "base_uri": "https://localhost:8080/",
          "height": 173
        },
        "outputId": "7ce02267-7e18-4417-d986-d8a2a57b5ff5"
      },
      "source": [
        "def fitRidgeRegression(rawData, testDataSet, featureCols, targetCol):\n",
        "     \n",
        "  scaler = StandardScaler()\n",
        "  \n",
        "  X = rawData[featureCols]\n",
        "  y = rawData[targetCol]\n",
        "  x_train_scaled = scaler.fit_transform(X)\n",
        "  X = pd.DataFrame(x_train_scaled)\n",
        "  \n",
        "  lm = linear_model.BayesianRidge()\n",
        "  model = lm.fit(X,y)\n",
        "  \n",
        "  print(lm.intercept_)\n",
        "  print(featureCols)\n",
        "  print(lm.coef_)\n",
        "  \n",
        "  y_test = testDataSet[targetCol]\n",
        "  y_pred = lm.predict(testDataSet[featureCols])\n",
        "  \n",
        "  print(metrics.mean_absolute_error(y_test, y_pred))\n",
        "  print(metrics.mean_squared_error(y_test, y_pred))\n",
        "  print(np.sqrt(metrics.mean_absolute_error(y_test, y_pred)))\n",
        "  \n",
        "  \n",
        "  PRED = lm.predict( scaler.fit_transform(X))\n",
        "  __Y = pd.DataFrame(data = np.array(PRED), columns=['1'])\n",
        "  _X1.insert(4, '5', __Y['1'])\n",
        "  \n",
        "  PRED = regression_model.predict(TEST_DATA[featureCols])\n",
        "  __Y = pd.DataFrame(data = np.array(PRED), columns=['1'])  \n",
        "  _X2.insert(4, '5', __Y['1'])\n",
        "  \n",
        "  \n",
        "#   ans = pd.DataFrame(TEST_DATA['id'])\n",
        "#   ans.insert(1, 'scalar_coupling_constant', PRED)\n",
        "#   ans.to_csv('drive/My Drive/Kaggle001/submission.csv', sep=',', index=False, encoding='utf-8')\n",
        "  \n",
        "\n",
        "  \n",
        "fitRidgeRegression(rawData, validationSet, featureCols , targetCol)"
      ],
      "execution_count": 59,
      "outputs": [
        {
          "output_type": "stream",
          "text": [
            "/usr/local/lib/python3.6/dist-packages/sklearn/utils/validation.py:724: DataConversionWarning: A column-vector y was passed when a 1d array was expected. Please change the shape of y to (n_samples, ), for example using ravel().\n",
            "  y = column_or_1d(y, warn=True)\n"
          ],
          "name": "stderr"
        },
        {
          "output_type": "stream",
          "text": [
            "15.915221155464279\n",
            "['molecule_name', 'atom_index_0', 'atom_index_1', 'type']\n",
            "[ -0.74300488   3.33976793  -9.26632652 -24.36556358]\n",
            "32780.67980140038\n",
            "1376361352.4917853\n",
            "181.05435593047847\n"
          ],
          "name": "stdout"
        }
      ]
    },
    {
      "cell_type": "code",
      "metadata": {
        "id": "YuPhqlEGg9t0",
        "colab_type": "code",
        "colab": {}
      },
      "source": [
        ""
      ],
      "execution_count": 0,
      "outputs": []
    },
    {
      "cell_type": "markdown",
      "metadata": {
        "id": "ILIVVLdcfKTp",
        "colab_type": "text"
      },
      "source": [
        "#Stacking"
      ]
    },
    {
      "cell_type": "code",
      "metadata": {
        "id": "80bK6EP6g_Zu",
        "colab_type": "code",
        "colab": {
          "base_uri": "https://localhost:8080/",
          "height": 119
        },
        "outputId": "38344224-0ea9-4e97-c97b-fc6a5c78c364"
      },
      "source": [
        "\n",
        "_X1.insert(5, 'O', rawData[targetCol])\n",
        "print(_X1.head())"
      ],
      "execution_count": 60,
      "outputs": [
        {
          "output_type": "stream",
          "text": [
            "           1          2          3          4          5        O\n",
            "0  44.505883  -9.705714 -10.289466 -10.289466  44.505867 -11.2570\n",
            "1  42.650321  -9.705714 -10.289466 -10.289466  42.650306 -11.2548\n",
            "2  40.794758  -9.705714 -10.289466 -10.289466  40.794745 -11.2543\n",
            "3  60.163921  87.674163  87.138232  87.138232  60.163890  84.8074\n",
            "4  43.672469  -9.705714 -10.289466 -10.289466  43.672453 -11.2541\n"
          ],
          "name": "stdout"
        }
      ]
    },
    {
      "cell_type": "code",
      "metadata": {
        "id": "ITo49R6yHI1C",
        "colab_type": "code",
        "colab": {
          "base_uri": "https://localhost:8080/",
          "height": 156
        },
        "outputId": "c89ab836-b6bd-468b-ccf7-283b6e333f3a"
      },
      "source": [
        "from sklearn.model_selection import cross_val_score, GridSearchCV\n",
        "from sklearn.ensemble import RandomForestRegressor\n",
        "from sklearn.preprocessing import MinMaxScaler\n",
        "\n",
        "\n",
        "X = _X1[['1','2','3','4','5']]\n",
        "y = _X1[['O']]\n",
        "regression_model = RandomForestRegressor(criterion=\"mse\") \n",
        "regression_model.fit(X,y)\n",
        "\n",
        "y_pred = regression_model.predict(X)\n",
        "print(metrics.mean_absolute_error(y, y_pred))\n",
        "print(metrics.mean_squared_error(y, y_pred))\n",
        "print(np.sqrt(metrics.mean_absolute_error(y, y_pred))) \n",
        "\n",
        "\n",
        "PRED = regression_model.predict(_X2)\n",
        "ans = pd.DataFrame(TEST_DATA['id'])\n",
        "ans.insert(1, 'scalar_coupling_constant', PRED)\n",
        "ans.to_csv('drive/My Drive/Kaggle001/submission.csv', sep=',', index=False, encoding='utf-8')"
      ],
      "execution_count": 61,
      "outputs": [
        {
          "output_type": "stream",
          "text": [
            "/usr/local/lib/python3.6/dist-packages/sklearn/ensemble/forest.py:245: FutureWarning: The default value of n_estimators will change from 10 in version 0.20 to 100 in 0.22.\n",
            "  \"10 in version 0.20 to 100 in 0.22.\", FutureWarning)\n",
            "/usr/local/lib/python3.6/dist-packages/ipykernel_launcher.py:9: DataConversionWarning: A column-vector y was passed when a 1d array was expected. Please change the shape of y to (n_samples,), for example using ravel().\n",
            "  if __name__ == '__main__':\n"
          ],
          "name": "stderr"
        },
        {
          "output_type": "stream",
          "text": [
            "0.8682515137464033\n",
            "3.775865445467907\n",
            "0.9318001468911685\n"
          ],
          "name": "stdout"
        }
      ]
    },
    {
      "cell_type": "code",
      "metadata": {
        "id": "573BbihSoVqn",
        "colab_type": "code",
        "colab": {
          "base_uri": "https://localhost:8080/",
          "height": 136
        },
        "outputId": "4e3c9641-f747-48d1-f383-663daee1d188"
      },
      "source": [
        "print(len(ans))\n",
        "print(ans.head())"
      ],
      "execution_count": 62,
      "outputs": [
        {
          "output_type": "stream",
          "text": [
            "2505542\n",
            "        id  scalar_coupling_constant\n",
            "0  4658147                  6.869432\n",
            "1  4658148                116.049120\n",
            "2  4658149                  6.573565\n",
            "3  4658150                 93.760930\n",
            "4  4658151                 -6.756916\n"
          ],
          "name": "stdout"
        }
      ]
    },
    {
      "cell_type": "markdown",
      "metadata": {
        "id": "B3M7ZHJYsA2w",
        "colab_type": "text"
      },
      "source": [
        "#Finding min_samples_leaf"
      ]
    },
    {
      "cell_type": "code",
      "metadata": {
        "id": "rnJpVb1FbVMN",
        "colab_type": "code",
        "outputId": "3a451ccc-2e57-440d-bd20-943bc4c402ab",
        "colab": {
          "base_uri": "https://localhost:8080/",
          "height": 295
        }
      },
      "source": [
        "\"\"\"\n",
        "Plot the RMSE with respect to the minimum number of instances\n",
        "\"\"\" \n",
        "\n",
        "y = rawData[targetCol]\n",
        "X = rawData[featureCols]\n",
        "y_test = validationSet[targetCol]\n",
        "\n",
        "fig = plt.figure()\n",
        "ax0 = fig.add_subplot(111) \n",
        "RMSE_train = []\n",
        "RMSE_test = []\n",
        "for i in range(1,100):\n",
        "  #Paramterize the model and let i be the number of minimum instances per leaf node\n",
        "  regression_model = DecisionTreeRegressor(criterion=\"mse\",min_samples_leaf=i)   \n",
        "  #Train the model\n",
        "  regression_model.fit(X,y)\n",
        "  #Predict query instances\n",
        "  predicted_train = regression_model.predict(X)\n",
        "  predicted_test = regression_model.predict(validationSet[featureCols])\n",
        "  #Calculate and append the RMSEs\n",
        "  RMSE_train.append(np.sqrt(metrics.mean_absolute_error(y, predicted_train)))\n",
        "  RMSE_test.append(np.sqrt(metrics.mean_absolute_error(y_test, predicted_test)))\n",
        "\n",
        "ax0.plot(range(1,100),RMSE_test,label='Test_Data')\n",
        "ax0.plot(range(1,100),RMSE_train,label='Train_Data')\n",
        "ax0.legend()\n",
        "ax0.set_title('RMSE with respect to the minumim number of instances per node')\n",
        "ax0.set_xlabel('#Instances')\n",
        "ax0.set_ylabel('RMSE')\n",
        "plt.show()"
      ],
      "execution_count": 0,
      "outputs": [
        {
          "output_type": "display_data",
          "data": {
            "image/png": "[encoded data removed]",
            "text/plain": [
              "<Figure size 432x288 with 1 Axes>"
            ]
          },
          "metadata": {
            "tags": []
          }
        }
      ]
    },
    {
      "cell_type": "code",
      "metadata": {
        "id": "vz2a7l1nYg6b",
        "colab_type": "code",
        "outputId": "a3d69e4d-a2f5-4dc6-e6a3-2cfa049fb6e5",
        "colab": {
          "base_uri": "https://localhost:8080/",
          "height": 68
        }
      },
      "source": [
        ""
      ],
      "execution_count": 0,
      "outputs": [
        {
          "output_type": "stream",
          "text": [
            "2.9169118501208255\n",
            "33.012601179676075\n",
            "1.707896908516678\n"
          ],
          "name": "stdout"
        }
      ]
    },
    {
      "cell_type": "code",
      "metadata": {
        "id": "lZaGPhJsgEBb",
        "colab_type": "code",
        "colab": {}
      },
      "source": [
        "\n"
      ],
      "execution_count": 0,
      "outputs": []
    }
  ]
}