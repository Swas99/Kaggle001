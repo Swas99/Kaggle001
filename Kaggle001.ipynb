{
  "nbformat": 4,
  "nbformat_minor": 0,
  "metadata": {
    "colab": {
      "name": "Kaggle001.ipynb",
      "version": "0.3.2",
      "provenance": [],
      "include_colab_link": true
    },
    "kernelspec": {
      "name": "python3",
      "display_name": "Python 3"
    }
  },
  "cells": [
    {
      "cell_type": "markdown",
      "metadata": {
        "id": "view-in-github",
        "colab_type": "text"
      },
      "source": [
        "<a href=\"https://colab.research.google.com/github/Swas99/Kaggle001/blob/master/Kaggle001.ipynb\" target=\"_parent\"><img src=\"https://colab.research.google.com/assets/colab-badge.svg\" alt=\"Open In Colab\"/></a>"
      ]
    },
    {
      "cell_type": "code",
      "metadata": {
        "id": "T1ZJ9nbSoFF1",
        "colab_type": "code",
        "colab": {}
      },
      "source": [
        "from google.colab import drive"
      ],
      "execution_count": 0,
      "outputs": []
    },
    {
      "cell_type": "code",
      "metadata": {
        "id": "Ta9MzsILp3xU",
        "colab_type": "code",
        "outputId": "63a6f4f9-9a74-4afb-d9d3-c81a6080137d",
        "colab": {
          "base_uri": "https://localhost:8080/",
          "height": 122
        }
      },
      "source": [
        "drive.mount('/content/drive', force_remount =True)"
      ],
      "execution_count": 0,
      "outputs": [
        {
          "output_type": "stream",
          "text": [
            "Go to this URL in a browser: https://accounts.google.com/o/oauth2/auth?client_id=947318989803-6bn6qk8qdgf4n4g3pfee6491hc0brc4i.apps.googleusercontent.com&redirect_uri=urn%3Aietf%3Awg%3Aoauth%3A2.0%3Aoob&scope=email%20https%3A%2F%2Fwww.googleapis.com%2Fauth%2Fdocs.test%20https%3A%2F%2Fwww.googleapis.com%2Fauth%2Fdrive%20https%3A%2F%2Fwww.googleapis.com%2Fauth%2Fdrive.photos.readonly%20https%3A%2F%2Fwww.googleapis.com%2Fauth%2Fpeopleapi.readonly&response_type=code\n",
            "\n",
            "Enter your authorization code:\n",
            "··········\n",
            "Mounted at /content/drive\n"
          ],
          "name": "stdout"
        }
      ]
    },
    {
      "cell_type": "code",
      "metadata": {
        "id": "NOU1dd6aqDeM",
        "colab_type": "code",
        "colab": {}
      },
      "source": [
        "import numpy as np\n",
        "import pandas as pd"
      ],
      "execution_count": 0,
      "outputs": []
    },
    {
      "cell_type": "code",
      "metadata": {
        "id": "2jaJwLMjyU6N",
        "colab_type": "code",
        "colab": {}
      },
      "source": [
        "#Read Data\n",
        "rawData = pd.read_csv('drive/My Drive/Kaggle001/train.csv')"
      ],
      "execution_count": 0,
      "outputs": []
    },
    {
      "cell_type": "code",
      "metadata": {
        "id": "jxF_IjjlyyKX",
        "colab_type": "code",
        "outputId": "c8106bfd-bd9d-4a81-8831-cc5fabd890c2",
        "colab": {
          "base_uri": "https://localhost:8080/",
          "height": 255
        }
      },
      "source": [
        "#Print Column Names\n",
        "colNames = list(rawData)\n",
        "print(colNames)\n",
        "\n",
        "numberOfNaNsInCols = []\n",
        "totalRows = rawData.shape[0]\n",
        "\n",
        "for i in range(len(colNames)):\n",
        "    numberOfNaNsInCols.append(totalRows - rawData[pd.notnull(rawData[colNames[i]])].shape[0])\n",
        "\n",
        "print(\"Column Name\\t\\t\\tCount Of Unique Values / Number Of Missing Values\")\n",
        "for i in range(len(colNames)):\n",
        "  print(str(colNames[i]) + \" \\t\\t\\t\\t\" + str(rawData[colNames[i]].unique().shape[0]) + \" / \" + str(numberOfNaNsInCols[i]))\n",
        "    \n",
        "    \n",
        "# Gather Columns With Missing Value\n",
        "missingValueCols = []\n",
        "for i in range(len(colNames)):\n",
        "  if numberOfNaNsInCols[i] > 0 :\n",
        "    missingValueCols.append(colNames[i])\n",
        "\n",
        "print(\"\\nMissing Value Cols: \")\n",
        "print(missingValueCols)\n",
        "\n",
        "numericalMissingDataHeader = []\n",
        "numericalMissingDataMissingCount = []\n",
        "categoricalMissingDataHeader = []\n",
        "categoricalMissingDataMissingCount = []\n",
        "\n",
        "print(\"Numerical Missing Data\")\n",
        "for i in range(len(colNames)):\n",
        "  if numberOfNaNsInCols[i]>0:\n",
        "    if rawData[colNames[i]].unique().shape[0]>8: \n",
        "      numericalMissingDataHeader.append(colNames[i])\n",
        "      numericalMissingDataMissingCount.append(numberOfNaNsInCols[i])\n",
        "      print(str(colNames[i]) +  \" : \" + str(numberOfNaNsInCols[i]))\n",
        "      \n",
        "print(\"\\nCategorical Missing Data\")\n",
        "for i in range(len(colNames)):\n",
        "  if numberOfNaNsInCols[i]>0:\n",
        "    if rawData[colNames[i]].unique().shape[0]<8:\n",
        "      categoricalMissingDataHeader.append(colNames[i])\n",
        "      categoricalMissingDataMissingCount.append(numberOfNaNsInCols[i])\n",
        "      print(str(colNames[i]) +  \" : \" + str(numberOfNaNsInCols[i]))"
      ],
      "execution_count": 0,
      "outputs": [
        {
          "output_type": "stream",
          "text": [
            "['id', 'molecule_name', 'atom_index_0', 'atom_index_1', 'type', 'scalar_coupling_constant']\n",
            "Column Name\t\t\tCount Of Unique Values / Number Of Missing Values\n",
            "id \t\t\t\t4658147 / 0\n",
            "molecule_name \t\t\t\t85003 / 0\n",
            "atom_index_0 \t\t\t\t29 / 0\n",
            "atom_index_1 \t\t\t\t29 / 0\n",
            "type \t\t\t\t8 / 0\n",
            "scalar_coupling_constant \t\t\t\t2182935 / 0\n",
            "\n",
            "Missing Value Cols: \n",
            "[]\n",
            "Numerical Missing Data\n",
            "\n",
            "Categorical Missing Data\n"
          ],
          "name": "stdout"
        }
      ]
    },
    {
      "cell_type": "code",
      "metadata": {
        "id": "2qCutnLEyyWh",
        "colab_type": "code",
        "outputId": "85cfc5fe-2213-4144-a98c-564b470207dd",
        "colab": {
          "base_uri": "https://localhost:8080/",
          "height": 1071
        }
      },
      "source": [
        "print(rawData[\"atom_index_0\"])"
      ],
      "execution_count": 0,
      "outputs": [
        {
          "output_type": "stream",
          "text": [
            "0           1\n",
            "1           1\n",
            "2           1\n",
            "3           1\n",
            "4           2\n",
            "5           2\n",
            "6           2\n",
            "7           3\n",
            "8           3\n",
            "9           4\n",
            "10          1\n",
            "11          1\n",
            "12          1\n",
            "13          2\n",
            "14          2\n",
            "15          3\n",
            "16          1\n",
            "17          2\n",
            "18          2\n",
            "19          2\n",
            "20          2\n",
            "21          2\n",
            "22          2\n",
            "23          2\n",
            "24          2\n",
            "25          2\n",
            "26          3\n",
            "27          3\n",
            "28          3\n",
            "29          3\n",
            "           ..\n",
            "4658117    14\n",
            "4658118    14\n",
            "4658119    14\n",
            "4658120    14\n",
            "4658121    15\n",
            "4658122    15\n",
            "4658123    15\n",
            "4658124    15\n",
            "4658125    15\n",
            "4658126    15\n",
            "4658127    15\n",
            "4658128    15\n",
            "4658129    16\n",
            "4658130    16\n",
            "4658131    16\n",
            "4658132    16\n",
            "4658133    16\n",
            "4658134    16\n",
            "4658135    16\n",
            "4658136    16\n",
            "4658137    16\n",
            "4658138    16\n",
            "4658139    17\n",
            "4658140    17\n",
            "4658141    17\n",
            "4658142    17\n",
            "4658143    17\n",
            "4658144    17\n",
            "4658145    17\n",
            "4658146    17\n",
            "Name: atom_index_0, Length: 4658147, dtype: int64\n"
          ],
          "name": "stdout"
        }
      ]
    }
  ]
}