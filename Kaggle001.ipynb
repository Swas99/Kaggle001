{
  "nbformat": 4,
  "nbformat_minor": 0,
  "metadata": {
    "colab": {
      "name": "Kaggle001.ipynb",
      "version": "0.3.2",
      "provenance": [],
      "include_colab_link": true
    },
    "kernelspec": {
      "name": "python3",
      "display_name": "Python 3"
    }
  },
  "cells": [
    {
      "cell_type": "markdown",
      "metadata": {
        "id": "view-in-github",
        "colab_type": "text"
      },
      "source": [
        "<a href=\"https://colab.research.google.com/github/Swas99/Kaggle001/blob/master/Kaggle001.ipynb\" target=\"_parent\"><img src=\"https://colab.research.google.com/assets/colab-badge.svg\" alt=\"Open In Colab\"/></a>"
      ]
    },
    {
      "cell_type": "code",
      "metadata": {
        "id": "T1ZJ9nbSoFF1",
        "colab_type": "code",
        "colab": {}
      },
      "source": [
        "from google.colab import drive"
      ],
      "execution_count": 0,
      "outputs": []
    },
    {
      "cell_type": "code",
      "metadata": {
        "id": "Ta9MzsILp3xU",
        "colab_type": "code",
        "colab": {}
      },
      "source": [
        "drive.mount('/content/drive', force_remount =True)"
      ],
      "execution_count": 0,
      "outputs": []
    },
    {
      "cell_type": "code",
      "metadata": {
        "id": "NOU1dd6aqDeM",
        "colab_type": "code",
        "colab": {}
      },
      "source": [
        "import numpy as np\n",
        "import pandas as pd\n",
        "from sklearn import tree\n",
        "from sklearn import metrics\n",
        "from sklearn import linear_model\n",
        "from sklearn.feature_selection import RFE\n",
        "from sklearn.tree import DecisionTreeRegressor\n",
        "from sklearn.preprocessing import StandardScaler\n",
        "from sklearn.ensemble import RandomForestRegressor\n",
        "from keras.utils import to_categorical\n",
        "import matplotlib.pyplot as plt"
      ],
      "execution_count": 0,
      "outputs": []
    },
    {
      "cell_type": "markdown",
      "metadata": {
        "id": "uxa9gA__NfZ-",
        "colab_type": "text"
      },
      "source": [
        "# Data Analysis\n",
        "\n",
        "---\n",
        "\n"
      ]
    },
    {
      "cell_type": "code",
      "metadata": {
        "id": "2jaJwLMjyU6N",
        "colab_type": "code",
        "colab": {}
      },
      "source": [
        "#Read Data\n",
        "rawData = pd.read_csv('drive/My Drive/Kaggle001/train.csv')"
      ],
      "execution_count": 0,
      "outputs": []
    },
    {
      "cell_type": "code",
      "metadata": {
        "id": "jxF_IjjlyyKX",
        "colab_type": "code",
        "outputId": "9e7176a5-95f6-4ee5-cae8-35383eb106c1",
        "colab": {
          "base_uri": "https://localhost:8080/",
          "height": 255
        }
      },
      "source": [
        "#Print Column Names\n",
        "colNames = list(rawData)\n",
        "print(colNames)\n",
        "\n",
        "numberOfNaNsInCols = []\n",
        "totalRows = rawData.shape[0]\n",
        "\n",
        "for i in range(len(colNames)):\n",
        "    numberOfNaNsInCols.append(totalRows - rawData[pd.notnull(rawData[colNames[i]])].shape[0])\n",
        "\n",
        "print(\"Column Name\\t\\t\\tCount Of Unique Values / Number Of Missing Values\")\n",
        "for i in range(len(colNames)):\n",
        "  print(str(colNames[i]) + \" \\t\\t\\t\\t\" + str(rawData[colNames[i]].unique().shape[0]) + \" / \" + str(numberOfNaNsInCols[i]))\n",
        "    \n",
        "    \n",
        "# Gather Columns With Missing Value\n",
        "missingValueCols = []\n",
        "for i in range(len(colNames)):\n",
        "  if numberOfNaNsInCols[i] > 0 :\n",
        "    missingValueCols.append(colNames[i])\n",
        "\n",
        "print(\"\\nMissing Value Cols: \")\n",
        "print(missingValueCols)\n",
        "\n",
        "numericalMissingDataHeader = []\n",
        "numericalMissingDataMissingCount = []\n",
        "categoricalMissingDataHeader = []\n",
        "categoricalMissingDataMissingCount = []\n",
        "\n",
        "print(\"Numerical Missing Data\")\n",
        "for i in range(len(colNames)):\n",
        "  if numberOfNaNsInCols[i]>0:\n",
        "    if rawData[colNames[i]].unique().shape[0]>8: \n",
        "      numericalMissingDataHeader.append(colNames[i])\n",
        "      numericalMissingDataMissingCount.append(numberOfNaNsInCols[i])\n",
        "      print(str(colNames[i]) +  \" : \" + str(numberOfNaNsInCols[i]))\n",
        "      \n",
        "print(\"\\nCategorical Missing Data\")\n",
        "for i in range(len(colNames)):\n",
        "  if numberOfNaNsInCols[i]>0:\n",
        "    if rawData[colNames[i]].unique().shape[0]<8:\n",
        "      categoricalMissingDataHeader.append(colNames[i])\n",
        "      categoricalMissingDataMissingCount.append(numberOfNaNsInCols[i])\n",
        "      print(str(colNames[i]) +  \" : \" + str(numberOfNaNsInCols[i]))"
      ],
      "execution_count": 6,
      "outputs": [
        {
          "output_type": "stream",
          "text": [
            "['id', 'molecule_name', 'atom_index_0', 'atom_index_1', 'type', 'scalar_coupling_constant']\n",
            "Column Name\t\t\tCount Of Unique Values / Number Of Missing Values\n",
            "id \t\t\t\t4658147 / 0\n",
            "molecule_name \t\t\t\t85003 / 0\n",
            "atom_index_0 \t\t\t\t29 / 0\n",
            "atom_index_1 \t\t\t\t29 / 0\n",
            "type \t\t\t\t8 / 0\n",
            "scalar_coupling_constant \t\t\t\t2182935 / 0\n",
            "\n",
            "Missing Value Cols: \n",
            "[]\n",
            "Numerical Missing Data\n",
            "\n",
            "Categorical Missing Data\n"
          ],
          "name": "stdout"
        }
      ]
    },
    {
      "cell_type": "markdown",
      "metadata": {
        "id": "X8u-X0hyi1GZ",
        "colab_type": "text"
      },
      "source": [
        "# Not used now"
      ]
    },
    {
      "cell_type": "code",
      "metadata": {
        "id": "nL5ONlv29hBC",
        "colab_type": "code",
        "outputId": "424778b5-f2d1-4c0c-99fc-0c390a5dd6c6",
        "colab": {
          "base_uri": "https://localhost:8080/",
          "height": 119
        }
      },
      "source": [
        "data_1 = pd.read_csv('drive/My Drive/Kaggle001/structures.csv')\n",
        "print(data_1.head())"
      ],
      "execution_count": 9,
      "outputs": [
        {
          "output_type": "stream",
          "text": [
            "      molecule_name  atom_index atom         x         y         z\n",
            "0  dsgdb9nsd_000001           0    C -0.012698  1.085804  0.008001\n",
            "1  dsgdb9nsd_000001           1    H  0.002150 -0.006031  0.001976\n",
            "2  dsgdb9nsd_000001           2    H  1.011731  1.463751  0.000277\n",
            "3  dsgdb9nsd_000001           3    H -0.540815  1.447527 -0.876644\n",
            "4  dsgdb9nsd_000001           4    H -0.523814  1.437933  0.906397\n"
          ],
          "name": "stdout"
        }
      ]
    },
    {
      "cell_type": "code",
      "metadata": {
        "id": "lfUcrmYSL78U",
        "colab_type": "code",
        "colab": {}
      },
      "source": [
        "# def addMCData(colStart):\n",
        "  \n",
        "#   rawData[\"A1\"] = np.nan\n",
        "#   rawData[\"A1x\"] = np.nan\n",
        "#   rawData[\"A1y\"] = np.nan\n",
        "#   rawData[\"A1z\"] = np.nan\n",
        "#   rawData[\"A2\"] = np.nan\n",
        "#   rawData[\"A2x\"] = np.nan\n",
        "#   rawData[\"A2y\"] = np.nan\n",
        "#   rawData[\"A2z\"] = np.nan\n",
        "  \n",
        "  \n",
        "#   for index, i in rawData.iterrows():\n",
        "#     i.A1 = data_1.loc[(data_1['molecule_name'] == i['molecule_name']) & (data_1['atom_index'] == i.atom_index_0)].atom[1]\n",
        "#     i.A1x = data_1.loc[(data_1['molecule_name'] == i['molecule_name']) & (data_1['atom_index'] == i.atom_index_0)].x[1]\n",
        "#     i.A1y = data_1.loc[(data_1['molecule_name'] == i['molecule_name']) & (data_1['atom_index'] == i.atom_index_0)].y[1]\n",
        "#     i.A1z = data_1.loc[(data_1['molecule_name'] == i['molecule_name']) & (data_1['atom_index'] == i.atom_index_0)].z[1]\n",
        "#     i.A2 = data_1.loc[(data_1['molecule_name'] == i['molecule_name']) & (data_1['atom_index'] == i.atom_index_1)].atom[1]\n",
        "#     i.A2x = data_1.loc[(data_1['molecule_name'] == i['molecule_name']) & (data_1['atom_index'] == i.atom_index_1)].x[1]\n",
        "#     i.A2y = data_1.loc[(data_1['molecule_name'] == i['molecule_name']) & (data_1['atom_index'] == i.atom_index_1)].y[1]\n",
        "#     i.A2z = data_1.loc[(data_1['molecule_name'] == i['molecule_name']) & (data_1['atom_index'] == i.atom_index_1)].z[1]\n",
        "    \n",
        "    \n",
        "#   print(rawData)\n",
        "# #     rawData[]\n",
        "# #     i['colStart'] = data_1[i.molecule_name == data_1.molecule_name and data_1.atom_index == i.atom_index_0].atom\n",
        "# #     data_1[i.molecule_name == data_1.molecule_name and data_1.atom_index == i.atom_index_0].x\n",
        "# #     data_1[i.molecule_name == data_1.molecule_name and data_1.atom_index == i.atom_index_0].y\n",
        "# #     data_1[i.molecule_name == data_1.molecule_name and data_1.atom_index == i.atom_index_0].z\n",
        "    \n",
        "    \n",
        "    \n",
        "    \n",
        "# addMCData(len(list(rawData))+1)\n",
        "  \n",
        "  "
      ],
      "execution_count": 0,
      "outputs": []
    },
    {
      "cell_type": "markdown",
      "metadata": {
        "id": "HbUsKuHieE8e",
        "colab_type": "text"
      },
      "source": [
        "# Data Processing"
      ]
    },
    {
      "cell_type": "code",
      "metadata": {
        "id": "zJ4LKeFeKmJj",
        "colab_type": "code",
        "colab": {}
      },
      "source": [
        "rawData = pd.read_csv('drive/My Drive/Kaggle001/train.csv')"
      ],
      "execution_count": 0,
      "outputs": []
    },
    {
      "cell_type": "code",
      "metadata": {
        "id": "sCicG8OkSFDX",
        "colab_type": "code",
        "colab": {}
      },
      "source": [
        "\n",
        "molecule_names = rawData.molecule_name.unique()\n",
        "molecule_names_dict = dict(zip(molecule_names, range(len(molecule_names))))\n",
        "rawData = rawData.applymap(lambda s: molecule_names_dict.get(s) if s in molecule_names_dict else s)\n",
        "\n",
        "m_type = rawData.type.unique()\n",
        "m_type_dict = dict(zip(m_type, range(len(m_type))))\n",
        "rawData = rawData.applymap(lambda s: m_type_dict.get(s) if s in m_type_dict else s)"
      ],
      "execution_count": 0,
      "outputs": []
    },
    {
      "cell_type": "code",
      "metadata": {
        "id": "O1LPkyVWYub9",
        "colab_type": "code",
        "colab": {}
      },
      "source": [
        "\n",
        "def createValDataSetForValidation(rawData, fraction):\n",
        "  df1 = rawData\n",
        "#   for i in range(len(colNames)):\n",
        "#     df1 = removeNaNsFromRows(df1,colNames[i])\n",
        "\n",
        "  df1 = df1.sample(frac=1).reset_index(drop=True)\n",
        "  df1 = df1.sample(frac=1).reset_index(drop=True)\n",
        "  \n",
        "  validationSet = df1.head(int(df1.shape[0] * fraction))\n",
        "  \n",
        "  return validationSet"
      ],
      "execution_count": 0,
      "outputs": []
    },
    {
      "cell_type": "code",
      "metadata": {
        "id": "BWjqb3zBJHU7",
        "colab_type": "code",
        "colab": {}
      },
      "source": [
        "validationSet = createValDataSetForValidation(rawData, .1)\n",
        "rawData = rawData.drop(validationSet.id)\n",
        "rawData = rawData.reset_index(drop=True)\n",
        "validationSet = validationSet.reset_index(drop=True)"
      ],
      "execution_count": 0,
      "outputs": []
    },
    {
      "cell_type": "code",
      "metadata": {
        "id": "szQD4LUHrhtC",
        "colab_type": "code",
        "colab": {}
      },
      "source": [
        "TEST_DATA = pd.read_csv('drive/My Drive/Kaggle001/test.csv')"
      ],
      "execution_count": 0,
      "outputs": []
    },
    {
      "cell_type": "code",
      "metadata": {
        "id": "8TlAG1lFsEhS",
        "colab_type": "code",
        "colab": {}
      },
      "source": [
        "TEST_DATA = TEST_DATA.applymap(lambda s: m_type_dict.get(s) if s in m_type_dict else s)\n",
        "TEST_DATA = TEST_DATA.applymap(lambda s: molecule_names_dict.get(s) if s in molecule_names_dict else s)"
      ],
      "execution_count": 0,
      "outputs": []
    },
    {
      "cell_type": "code",
      "metadata": {
        "id": "p7o2LCw6siRo",
        "colab_type": "code",
        "colab": {}
      },
      "source": [
        "# m_type = testData.type.unique()\n",
        "molecule_names = TEST_DATA.molecule_name.unique()\n",
        "# m_type_dict = dict(zip(m_type, range(len(m_type))))\n",
        "molecule_names_dict = dict(zip(molecule_names, range(len(molecule_names))))\n",
        "TEST_DATA = TEST_DATA.applymap(lambda s: molecule_names_dict.get(s) if s in molecule_names_dict else s)"
      ],
      "execution_count": 0,
      "outputs": []
    },
    {
      "cell_type": "markdown",
      "metadata": {
        "colab_type": "text",
        "id": "erMtvxeEKPE0"
      },
      "source": [
        "# Prediction"
      ]
    },
    {
      "cell_type": "code",
      "metadata": {
        "id": "fwpTI-_l_SQ-",
        "colab_type": "code",
        "colab": {}
      },
      "source": [
        "# ['id', 'molecule_name', 'atom_index_0', 'atom_index_1', 'type', 'scalar_coupling_constant']\n",
        "targetCol = ['scalar_coupling_constant']\n",
        "featureCols = ['molecule_name', 'atom_index_0', 'atom_index_1', 'type']\n",
        "\n",
        "\n",
        "_X1 =  pd.DataFrame()\n",
        "_X2 =  pd.DataFrame()"
      ],
      "execution_count": 0,
      "outputs": []
    },
    {
      "cell_type": "code",
      "metadata": {
        "id": "9M4IJmzQM21j",
        "colab_type": "code",
        "outputId": "d866fae7-6e7b-450e-b3c8-e44ffe6f6a89",
        "colab": {
          "base_uri": "https://localhost:8080/",
          "height": 119
        }
      },
      "source": [
        "def fitLinearRegression(rawData, testDataSet, featureCols, targetCol):\n",
        "     \n",
        "  scaler = StandardScaler()\n",
        "  \n",
        "  X = rawData[featureCols]\n",
        "  y = rawData[targetCol]\n",
        "  \n",
        "  lm = linear_model.LinearRegression()\n",
        "  model = lm.fit(X,y)\n",
        "  \n",
        "  print(lm.intercept_)\n",
        "  \n",
        "  print(featureCols)\n",
        "  print(lm.coef_)\n",
        "  \n",
        "  y_test = testDataSet[targetCol]\n",
        "  y_pred = lm.predict(testDataSet[featureCols])\n",
        "  \n",
        "  print(metrics.mean_absolute_error(y_test, y_pred))\n",
        "  print(metrics.mean_squared_error(y_test, y_pred))\n",
        "  print(np.sqrt(metrics.mean_absolute_error(y_test, y_pred)))\n",
        "  \n",
        "  \n",
        "  PRED = lm.predict( scaler.fit_transform(X))\n",
        "  __Y = pd.DataFrame(data = np.array(PRED), columns=['1'])\n",
        "  _X1.insert(0, '1', __Y['1'])\n",
        " \n",
        "  PRED = lm.predict( scaler.fit_transform(TEST_DATA[featureCols]))\n",
        "  __Y = pd.DataFrame(data = np.array(PRED), columns=['1'])  \n",
        "  _X2.insert(0, '1', __Y['1'])\n",
        "  \n",
        "#   PRED = lm.predict( scaler.fit_transform(TEST_DATA[featureCols]))\n",
        "#   ans = pd.DataFrame(TEST_DATA['id'])\n",
        "#   ans.insert(1, 'scalar_coupling_constant', PRED)\n",
        "#   ans.to_csv('drive/My Drive/Kaggle001/submission.csv', sep=',', index=False, encoding='utf-8')\n",
        "  \n",
        "\n",
        "  \n",
        "fitLinearRegression(rawData, validationSet, featureCols , targetCol)\n"
      ],
      "execution_count": 75,
      "outputs": [
        {
          "output_type": "stream",
          "text": [
            "[58.11962481]\n",
            "['molecule_name', 'atom_index_0', 'atom_index_1', 'type']\n",
            "[[-3.17899191e-05  1.02214811e+00 -1.85556258e+00 -1.09247643e+01]]\n",
            "19.1729159664684\n",
            "571.3005640794079\n",
            "4.378688841019467\n"
          ],
          "name": "stdout"
        }
      ]
    },
    {
      "cell_type": "code",
      "metadata": {
        "id": "g9UWVt4uMzBM",
        "colab_type": "code",
        "colab": {
          "base_uri": "https://localhost:8080/",
          "height": 68
        },
        "outputId": "91457ad2-4775-48a7-edd9-5f624e79b5ad"
      },
      "source": [
        "def fitRegTModel(rawData, testDataSet, featureCols , targetCol):\n",
        "  \n",
        "  y = rawData[targetCol]\n",
        "  X = rawData[featureCols]\n",
        "  \n",
        "  \n",
        "  regression_model = DecisionTreeRegressor(criterion=\"mse\",min_samples_leaf=17) \n",
        "  regression_model.fit(X,y)\n",
        "  \n",
        "  y_test = testDataSet[targetCol]\n",
        "  y_pred = regression_model.predict(testDataSet[featureCols])\n",
        "  \n",
        "  print(metrics.mean_absolute_error(y_test, y_pred))\n",
        "  print(metrics.mean_squared_error(y_test, y_pred))\n",
        "  print(np.sqrt(metrics.mean_absolute_error(y_test, y_pred))) \n",
        "  \n",
        "  PRED = regression_model.predict(X)\n",
        "  __Y = pd.DataFrame(data = np.array(PRED), columns=['1'])\n",
        "  _X1.insert(1, '2', __Y['1']) \n",
        "  \n",
        "  PRED = regression_model.predict(TEST_DATA[featureCols])\n",
        "  __Y = pd.DataFrame(data = np.array(PRED), columns=['1'])  \n",
        "  _X2.insert(1, '2', __Y['1'])\n",
        "#   PRED = regression_model.predict(TEST_DATA[featureCols])\n",
        "#   ans = pd.DataFrame(TEST_DATA['id'])\n",
        "#   ans.insert(1, 'scalar_coupling_constant', PRED)\n",
        "#   ans.to_csv('drive/My Drive/Kaggle001/submission.csv', sep=',', index=False, encoding='utf-8')\n",
        "  \n",
        "  \n",
        "  \n",
        "fitRegTModel(rawData, validationSet, featureCols , targetCol)\n"
      ],
      "execution_count": 76,
      "outputs": [
        {
          "output_type": "stream",
          "text": [
            "2.903340947809602\n",
            "32.888357906955626\n",
            "1.7039192902862512\n"
          ],
          "name": "stdout"
        }
      ]
    },
    {
      "cell_type": "code",
      "metadata": {
        "id": "3fml39ceBTxd",
        "colab_type": "code",
        "colab": {}
      },
      "source": [
        "from sklearn.model_selection import cross_val_score, GridSearchCV\n",
        "from sklearn.ensemble import RandomForestRegressor\n",
        "from sklearn.preprocessing import MinMaxScaler\n",
        "\n",
        "\n",
        "def rfr_model(testDataSet, X, y):\n",
        "  regression_model = RandomForestRegressor(criterion=\"mse\",min_samples_leaf=15) \n",
        "  regression_model.fit(X,y)\n",
        "  \n",
        "  y_test = testDataSet[targetCol]\n",
        "  y_pred = regression_model.predict(testDataSet[featureCols])\n",
        "  \n",
        "  print(metrics.mean_absolute_error(y_test, y_pred))\n",
        "  print(metrics.mean_squared_error(y_test, y_pred))\n",
        "  print(np.sqrt(metrics.mean_absolute_error(y_test, y_pred))) \n",
        "   \n",
        "#   PRED = regression_model.predict(X)\n",
        "#   __Y = pd.DataFrame(data = np.array(PRED), columns=['1'])\n",
        "#   _X1.insert(2, '3', __Y['1'])\n",
        "  \n",
        "#   PRED = regression_model.predict(TEST_DATA[featureCols])\n",
        "#   __Y = pd.DataFrame(data = np.array(PRED), columns=['1'])  \n",
        "#   _X2.insert(2, '3', __Y['1'])\n",
        "  \n",
        "#   PRED = regression_model.predict(TEST_DATA[featureCols])\n",
        "#   ans = pd.DataFrame(TEST_DATA['id'])\n",
        "#   ans.insert(1, 'scalar_coupling_constant', PRED)\n",
        "#   ans.to_csv('drive/My Drive/Kaggle001/submission.csv', sep=',', index=False, encoding='utf-8')\n",
        "  \n",
        "  \n",
        "rfr_model(validationSet, rawData[featureCols], rawData[targetCol])"
      ],
      "execution_count": 0,
      "outputs": []
    },
    {
      "cell_type": "code",
      "metadata": {
        "id": "ZD6hJrYLfkZb",
        "colab_type": "code",
        "colab": {
          "base_uri": "https://localhost:8080/",
          "height": 496
        },
        "outputId": "6b98f8c1-7ca4-4a13-a71d-7f040a0ec10a"
      },
      "source": [
        "def fitRidgeRegression(rawData, testDataSet, featureCols, targetCol):\n",
        "     \n",
        "   \n",
        "  \n",
        "  X = rawData[featureCols]\n",
        "  y = rawData[targetCol]\n",
        "#   x_train_scaled = scaler.fit_transform(X)\n",
        "#   X = pd.DataFrame(x_train_scaled)\n",
        "  \n",
        "  lm = linear_model.BayesianRidge()\n",
        "  model = lm.fit(X,y)\n",
        "  \n",
        "  print(lm.intercept_)\n",
        "  print(featureCols)\n",
        "  print(lm.coef_)\n",
        "  \n",
        "  y_test = testDataSet[targetCol]\n",
        "  y_pred = lm.predict(testDataSet[featureCols])\n",
        "  \n",
        "  print(metrics.mean_absolute_error(y_test, y_pred))\n",
        "  print(metrics.mean_squared_error(y_test, y_pred))\n",
        "  print(np.sqrt(metrics.mean_absolute_error(y_test, y_pred)))\n",
        "  \n",
        "  \n",
        "  PRED = lm.predict( scaler.fit_transform(X))\n",
        "  __Y = pd.DataFrame(data = np.array(PRED), columns=['1'])\n",
        "  _X1.insert(3, '4', __Y['1'])\n",
        "  \n",
        "  PRED = regression_model.predict(TEST_DATA[featureCols])\n",
        "  __Y = pd.DataFrame(data = np.array(PRED), columns=['1'])  \n",
        "  _X2.insert(3, '4', __Y['1'])\n",
        "  \n",
        "  \n",
        "#   ans = pd.DataFrame(TEST_DATA['id'])\n",
        "#   ans.insert(1, 'scalar_coupling_constant', PRED)\n",
        "#   ans.to_csv('drive/My Drive/Kaggle001/submission.csv', sep=',', index=False, encoding='utf-8')\n",
        "  \n",
        "\n",
        "  \n",
        "fitRidgeRegression(rawData, validationSet, featureCols , targetCol)"
      ],
      "execution_count": 78,
      "outputs": [
        {
          "output_type": "stream",
          "text": [
            "/usr/local/lib/python3.6/dist-packages/sklearn/utils/validation.py:724: DataConversionWarning: A column-vector y was passed when a 1d array was expected. Please change the shape of y to (n_samples, ), for example using ravel().\n",
            "  y = column_or_1d(y, warn=True)\n"
          ],
          "name": "stderr"
        },
        {
          "output_type": "stream",
          "text": [
            "58.11959328563728\n",
            "['molecule_name', 'atom_index_0', 'atom_index_1', 'type']\n",
            "[-3.17898879e-05  1.02214718e+00 -1.85556196e+00 -1.09247546e+01]\n",
            "19.17291261023709\n",
            "571.3005661096347\n",
            "4.378688457773297\n"
          ],
          "name": "stdout"
        },
        {
          "output_type": "error",
          "ename": "ValueError",
          "evalue": "ignored",
          "traceback": [
            "\u001b[0;31m---------------------------------------------------------------------------\u001b[0m",
            "\u001b[0;31mValueError\u001b[0m                                Traceback (most recent call last)",
            "\u001b[0;32m<ipython-input-78-23d13632325d>\u001b[0m in \u001b[0;36m<module>\u001b[0;34m()\u001b[0m\n\u001b[1;32m     38\u001b[0m \u001b[0;34m\u001b[0m\u001b[0m\n\u001b[1;32m     39\u001b[0m \u001b[0;34m\u001b[0m\u001b[0m\n\u001b[0;32m---> 40\u001b[0;31m \u001b[0mfitRidgeRegression\u001b[0m\u001b[0;34m(\u001b[0m\u001b[0mrawData\u001b[0m\u001b[0;34m,\u001b[0m \u001b[0mvalidationSet\u001b[0m\u001b[0;34m,\u001b[0m \u001b[0mfeatureCols\u001b[0m \u001b[0;34m,\u001b[0m \u001b[0mtargetCol\u001b[0m\u001b[0;34m)\u001b[0m\u001b[0;34m\u001b[0m\u001b[0;34m\u001b[0m\u001b[0m\n\u001b[0m",
            "\u001b[0;32m<ipython-input-78-23d13632325d>\u001b[0m in \u001b[0;36mfitRidgeRegression\u001b[0;34m(rawData, testDataSet, featureCols, targetCol)\u001b[0m\n\u001b[1;32m     27\u001b[0m   \u001b[0m_X1\u001b[0m\u001b[0;34m.\u001b[0m\u001b[0minsert\u001b[0m\u001b[0;34m(\u001b[0m\u001b[0;36m3\u001b[0m\u001b[0;34m,\u001b[0m \u001b[0;34m'4'\u001b[0m\u001b[0;34m,\u001b[0m \u001b[0m__Y\u001b[0m\u001b[0;34m[\u001b[0m\u001b[0;34m'1'\u001b[0m\u001b[0;34m]\u001b[0m\u001b[0;34m)\u001b[0m\u001b[0;34m\u001b[0m\u001b[0;34m\u001b[0m\u001b[0m\n\u001b[1;32m     28\u001b[0m \u001b[0;34m\u001b[0m\u001b[0m\n\u001b[0;32m---> 29\u001b[0;31m   \u001b[0mPRED\u001b[0m \u001b[0;34m=\u001b[0m \u001b[0mregression_model\u001b[0m\u001b[0;34m.\u001b[0m\u001b[0mpredict\u001b[0m\u001b[0;34m(\u001b[0m\u001b[0mTEST_DATA\u001b[0m\u001b[0;34m[\u001b[0m\u001b[0mfeatureCols\u001b[0m\u001b[0;34m]\u001b[0m\u001b[0;34m)\u001b[0m\u001b[0;34m\u001b[0m\u001b[0;34m\u001b[0m\u001b[0m\n\u001b[0m\u001b[1;32m     30\u001b[0m   \u001b[0m__Y\u001b[0m \u001b[0;34m=\u001b[0m \u001b[0mpd\u001b[0m\u001b[0;34m.\u001b[0m\u001b[0mDataFrame\u001b[0m\u001b[0;34m(\u001b[0m\u001b[0mdata\u001b[0m \u001b[0;34m=\u001b[0m \u001b[0mnp\u001b[0m\u001b[0;34m.\u001b[0m\u001b[0marray\u001b[0m\u001b[0;34m(\u001b[0m\u001b[0mPRED\u001b[0m\u001b[0;34m)\u001b[0m\u001b[0;34m,\u001b[0m \u001b[0mcolumns\u001b[0m\u001b[0;34m=\u001b[0m\u001b[0;34m[\u001b[0m\u001b[0;34m'1'\u001b[0m\u001b[0;34m]\u001b[0m\u001b[0;34m)\u001b[0m\u001b[0;34m\u001b[0m\u001b[0;34m\u001b[0m\u001b[0m\n\u001b[1;32m     31\u001b[0m   \u001b[0m_X2\u001b[0m\u001b[0;34m.\u001b[0m\u001b[0minsert\u001b[0m\u001b[0;34m(\u001b[0m\u001b[0;36m3\u001b[0m\u001b[0;34m,\u001b[0m \u001b[0;34m'4'\u001b[0m\u001b[0;34m,\u001b[0m \u001b[0m__Y\u001b[0m\u001b[0;34m[\u001b[0m\u001b[0;34m'1'\u001b[0m\u001b[0;34m]\u001b[0m\u001b[0;34m)\u001b[0m\u001b[0;34m\u001b[0m\u001b[0;34m\u001b[0m\u001b[0m\n",
            "\u001b[0;32m/usr/local/lib/python3.6/dist-packages/sklearn/ensemble/forest.py\u001b[0m in \u001b[0;36mpredict\u001b[0;34m(self, X)\u001b[0m\n\u001b[1;32m    691\u001b[0m         \u001b[0mcheck_is_fitted\u001b[0m\u001b[0;34m(\u001b[0m\u001b[0mself\u001b[0m\u001b[0;34m,\u001b[0m \u001b[0;34m'estimators_'\u001b[0m\u001b[0;34m)\u001b[0m\u001b[0;34m\u001b[0m\u001b[0;34m\u001b[0m\u001b[0m\n\u001b[1;32m    692\u001b[0m         \u001b[0;31m# Check data\u001b[0m\u001b[0;34m\u001b[0m\u001b[0;34m\u001b[0m\u001b[0;34m\u001b[0m\u001b[0m\n\u001b[0;32m--> 693\u001b[0;31m         \u001b[0mX\u001b[0m \u001b[0;34m=\u001b[0m \u001b[0mself\u001b[0m\u001b[0;34m.\u001b[0m\u001b[0m_validate_X_predict\u001b[0m\u001b[0;34m(\u001b[0m\u001b[0mX\u001b[0m\u001b[0;34m)\u001b[0m\u001b[0;34m\u001b[0m\u001b[0;34m\u001b[0m\u001b[0m\n\u001b[0m\u001b[1;32m    694\u001b[0m \u001b[0;34m\u001b[0m\u001b[0m\n\u001b[1;32m    695\u001b[0m         \u001b[0;31m# Assign chunk of trees to jobs\u001b[0m\u001b[0;34m\u001b[0m\u001b[0;34m\u001b[0m\u001b[0;34m\u001b[0m\u001b[0m\n",
            "\u001b[0;32m/usr/local/lib/python3.6/dist-packages/sklearn/ensemble/forest.py\u001b[0m in \u001b[0;36m_validate_X_predict\u001b[0;34m(self, X)\u001b[0m\n\u001b[1;32m    357\u001b[0m                                  \"call `fit` before exploiting the model.\")\n\u001b[1;32m    358\u001b[0m \u001b[0;34m\u001b[0m\u001b[0m\n\u001b[0;32m--> 359\u001b[0;31m         \u001b[0;32mreturn\u001b[0m \u001b[0mself\u001b[0m\u001b[0;34m.\u001b[0m\u001b[0mestimators_\u001b[0m\u001b[0;34m[\u001b[0m\u001b[0;36m0\u001b[0m\u001b[0;34m]\u001b[0m\u001b[0;34m.\u001b[0m\u001b[0m_validate_X_predict\u001b[0m\u001b[0;34m(\u001b[0m\u001b[0mX\u001b[0m\u001b[0;34m,\u001b[0m \u001b[0mcheck_input\u001b[0m\u001b[0;34m=\u001b[0m\u001b[0;32mTrue\u001b[0m\u001b[0;34m)\u001b[0m\u001b[0;34m\u001b[0m\u001b[0;34m\u001b[0m\u001b[0m\n\u001b[0m\u001b[1;32m    360\u001b[0m \u001b[0;34m\u001b[0m\u001b[0m\n\u001b[1;32m    361\u001b[0m     \u001b[0;34m@\u001b[0m\u001b[0mproperty\u001b[0m\u001b[0;34m\u001b[0m\u001b[0;34m\u001b[0m\u001b[0m\n",
            "\u001b[0;32m/usr/local/lib/python3.6/dist-packages/sklearn/tree/tree.py\u001b[0m in \u001b[0;36m_validate_X_predict\u001b[0;34m(self, X, check_input)\u001b[0m\n\u001b[1;32m    400\u001b[0m                              \u001b[0;34m\"match the input. Model n_features is %s and \"\u001b[0m\u001b[0;34m\u001b[0m\u001b[0;34m\u001b[0m\u001b[0m\n\u001b[1;32m    401\u001b[0m                              \u001b[0;34m\"input n_features is %s \"\u001b[0m\u001b[0;34m\u001b[0m\u001b[0;34m\u001b[0m\u001b[0m\n\u001b[0;32m--> 402\u001b[0;31m                              % (self.n_features_, n_features))\n\u001b[0m\u001b[1;32m    403\u001b[0m \u001b[0;34m\u001b[0m\u001b[0m\n\u001b[1;32m    404\u001b[0m         \u001b[0;32mreturn\u001b[0m \u001b[0mX\u001b[0m\u001b[0;34m\u001b[0m\u001b[0;34m\u001b[0m\u001b[0m\n",
            "\u001b[0;31mValueError\u001b[0m: Number of features of the model must match the input. Model n_features is 5 and input n_features is 4 "
          ]
        }
      ]
    },
    {
      "cell_type": "code",
      "metadata": {
        "id": "YuPhqlEGg9t0",
        "colab_type": "code",
        "colab": {}
      },
      "source": [
        ""
      ],
      "execution_count": 0,
      "outputs": []
    },
    {
      "cell_type": "markdown",
      "metadata": {
        "id": "ILIVVLdcfKTp",
        "colab_type": "text"
      },
      "source": [
        "#Stacking"
      ]
    },
    {
      "cell_type": "code",
      "metadata": {
        "id": "80bK6EP6g_Zu",
        "colab_type": "code",
        "colab": {
          "base_uri": "https://localhost:8080/",
          "height": 119
        },
        "outputId": "38344224-0ea9-4e97-c97b-fc6a5c78c364"
      },
      "source": [
        "\n",
        "_X1.insert(5, 'O', rawData[targetCol])\n",
        "print(_X1.head())"
      ],
      "execution_count": 60,
      "outputs": [
        {
          "output_type": "stream",
          "text": [
            "           1          2          3          4          5        O\n",
            "0  44.505883  -9.705714 -10.289466 -10.289466  44.505867 -11.2570\n",
            "1  42.650321  -9.705714 -10.289466 -10.289466  42.650306 -11.2548\n",
            "2  40.794758  -9.705714 -10.289466 -10.289466  40.794745 -11.2543\n",
            "3  60.163921  87.674163  87.138232  87.138232  60.163890  84.8074\n",
            "4  43.672469  -9.705714 -10.289466 -10.289466  43.672453 -11.2541\n"
          ],
          "name": "stdout"
        }
      ]
    },
    {
      "cell_type": "code",
      "metadata": {
        "id": "ITo49R6yHI1C",
        "colab_type": "code",
        "colab": {}
      },
      "source": [
        "from sklearn.model_selection import cross_val_score, GridSearchCV\n",
        "from sklearn.ensemble import RandomForestRegressor\n",
        "from sklearn.preprocessing import MinMaxScaler\n",
        "\n",
        "\n",
        "X = _X1[['1','2','3','4','5']]\n",
        "y = _X1[['O']]\n",
        "regression_model = RandomForestRegressor(criterion=\"mse\",min_samples_leaf=15) \n",
        "regression_model.fit(X,y)\n",
        "\n",
        "y_pred = regression_model.predict(X)\n",
        "print(metrics.mean_absolute_error(y, y_pred))\n",
        "print(metrics.mean_squared_error(y, y_pred))\n",
        "print(np.sqrt(metrics.mean_absolute_error(y, y_pred))) \n",
        "\n",
        "\n",
        "PRED = regression_model.predict(_X2)\n",
        "ans = pd.DataFrame(TEST_DATA['id'])\n",
        "ans.insert(1, 'scalar_coupling_constant', PRED)\n",
        "ans.to_csv('drive/My Drive/Kaggle001/submission.csv', sep=',', index=False, encoding='utf-8')"
      ],
      "execution_count": 0,
      "outputs": []
    },
    {
      "cell_type": "code",
      "metadata": {
        "id": "573BbihSoVqn",
        "colab_type": "code",
        "colab": {
          "base_uri": "https://localhost:8080/",
          "height": 136
        },
        "outputId": "4e3c9641-f747-48d1-f383-663daee1d188"
      },
      "source": [
        "print(len(ans))\n",
        "print(ans.head())"
      ],
      "execution_count": 62,
      "outputs": [
        {
          "output_type": "stream",
          "text": [
            "2505542\n",
            "        id  scalar_coupling_constant\n",
            "0  4658147                  6.869432\n",
            "1  4658148                116.049120\n",
            "2  4658149                  6.573565\n",
            "3  4658150                 93.760930\n",
            "4  4658151                 -6.756916\n"
          ],
          "name": "stdout"
        }
      ]
    },
    {
      "cell_type": "markdown",
      "metadata": {
        "id": "B3M7ZHJYsA2w",
        "colab_type": "text"
      },
      "source": [
        "#Finding min_samples_leaf"
      ]
    },
    {
      "cell_type": "code",
      "metadata": {
        "id": "rnJpVb1FbVMN",
        "colab_type": "code",
        "outputId": "bc3221e8-a550-43e6-f584-1db34249c3ad",
        "colab": {
          "base_uri": "https://localhost:8080/",
          "height": 343
        }
      },
      "source": [
        "\"\"\"\n",
        "Plot the RMSE with respect to the minimum number of instances\n",
        "\"\"\" \n",
        "\n",
        "y = rawData[targetCol]\n",
        "X = rawData[featureCols]\n",
        "y_test = validationSet[targetCol]\n",
        "\n",
        "fig = plt.figure()\n",
        "ax0 = fig.add_subplot(111) \n",
        "RMSE_train = []\n",
        "RMSE_test = []\n",
        "lim = 20\n",
        "for i in range(1,lim):\n",
        "  #Paramterize the model and let i be the number of minimum instances per leaf node\n",
        "  regression_model = RandomForestRegressor(criterion=\"mse\",min_samples_leaf=i)   \n",
        "  #Train the model\n",
        "  regression_model.fit(X,y)\n",
        "  #Predict query instances\n",
        "  predicted_train = regression_model.predict(X)\n",
        "  predicted_test = regression_model.predict(validationSet[featureCols])\n",
        "  #Calculate and append the RMSEs\n",
        "  RMSE_train.append(np.sqrt(metrics.mean_absolute_error(y, predicted_train)))\n",
        "  RMSE_test.append(np.sqrt(metrics.mean_absolute_error(y_test, predicted_test)))\n",
        "\n",
        "ax0.plot(range(1,lim),RMSE_test,label='Test_Data')\n",
        "ax0.plot(range(1,lim),RMSE_train,label='Train_Data')\n",
        "ax0.legend()\n",
        "ax0.set_title('RMSE with respect to the minumim number of instances per node')\n",
        "ax0.set_xlabel('#Instances')\n",
        "ax0.set_ylabel('RMSE')\n",
        "plt.show()"
      ],
      "execution_count": 0,
      "outputs": [
        {
          "output_type": "stream",
          "text": [
            "/usr/local/lib/python3.6/dist-packages/sklearn/ensemble/forest.py:245: FutureWarning: The default value of n_estimators will change from 10 in version 0.20 to 100 in 0.22.\n",
            "  \"10 in version 0.20 to 100 in 0.22.\", FutureWarning)\n",
            "/usr/local/lib/python3.6/dist-packages/ipykernel_launcher.py:18: DataConversionWarning: A column-vector y was passed when a 1d array was expected. Please change the shape of y to (n_samples,), for example using ravel().\n",
            "/usr/local/lib/python3.6/dist-packages/sklearn/ensemble/forest.py:245: FutureWarning: The default value of n_estimators will change from 10 in version 0.20 to 100 in 0.22.\n",
            "  \"10 in version 0.20 to 100 in 0.22.\", FutureWarning)\n",
            "/usr/local/lib/python3.6/dist-packages/ipykernel_launcher.py:18: DataConversionWarning: A column-vector y was passed when a 1d array was expected. Please change the shape of y to (n_samples,), for example using ravel().\n",
            "/usr/local/lib/python3.6/dist-packages/sklearn/ensemble/forest.py:245: FutureWarning: The default value of n_estimators will change from 10 in version 0.20 to 100 in 0.22.\n",
            "  \"10 in version 0.20 to 100 in 0.22.\", FutureWarning)\n",
            "/usr/local/lib/python3.6/dist-packages/ipykernel_launcher.py:18: DataConversionWarning: A column-vector y was passed when a 1d array was expected. Please change the shape of y to (n_samples,), for example using ravel().\n",
            "/usr/local/lib/python3.6/dist-packages/sklearn/ensemble/forest.py:245: FutureWarning: The default value of n_estimators will change from 10 in version 0.20 to 100 in 0.22.\n",
            "  \"10 in version 0.20 to 100 in 0.22.\", FutureWarning)\n",
            "/usr/local/lib/python3.6/dist-packages/ipykernel_launcher.py:18: DataConversionWarning: A column-vector y was passed when a 1d array was expected. Please change the shape of y to (n_samples,), for example using ravel().\n",
            "/usr/local/lib/python3.6/dist-packages/sklearn/ensemble/forest.py:245: FutureWarning: The default value of n_estimators will change from 10 in version 0.20 to 100 in 0.22.\n",
            "  \"10 in version 0.20 to 100 in 0.22.\", FutureWarning)\n",
            "/usr/local/lib/python3.6/dist-packages/ipykernel_launcher.py:18: DataConversionWarning: A column-vector y was passed when a 1d array was expected. Please change the shape of y to (n_samples,), for example using ravel().\n",
            "/usr/local/lib/python3.6/dist-packages/sklearn/ensemble/forest.py:245: FutureWarning: The default value of n_estimators will change from 10 in version 0.20 to 100 in 0.22.\n",
            "  \"10 in version 0.20 to 100 in 0.22.\", FutureWarning)\n",
            "/usr/local/lib/python3.6/dist-packages/ipykernel_launcher.py:18: DataConversionWarning: A column-vector y was passed when a 1d array was expected. Please change the shape of y to (n_samples,), for example using ravel().\n"
          ],
          "name": "stderr"
        }
      ]
    },
    {
      "cell_type": "code",
      "metadata": {
        "id": "vz2a7l1nYg6b",
        "colab_type": "code",
        "outputId": "a3d69e4d-a2f5-4dc6-e6a3-2cfa049fb6e5",
        "colab": {
          "base_uri": "https://localhost:8080/",
          "height": 68
        }
      },
      "source": [
        ""
      ],
      "execution_count": 0,
      "outputs": [
        {
          "output_type": "stream",
          "text": [
            "2.9169118501208255\n",
            "33.012601179676075\n",
            "1.707896908516678\n"
          ],
          "name": "stdout"
        }
      ]
    },
    {
      "cell_type": "code",
      "metadata": {
        "id": "lZaGPhJsgEBb",
        "colab_type": "code",
        "colab": {
          "base_uri": "https://localhost:8080/",
          "height": 295
        },
        "outputId": "67fb214c-3ad7-4dfe-e746-3954c64833cd"
      },
      "source": [
        "\"\"\"\n",
        "Plot the RMSE with respect to the minimum number of instances\n",
        "\"\"\" \n",
        "\n",
        "y = rawData[targetCol]\n",
        "X = rawData[featureCols]\n",
        "y_test = validationSet[targetCol]\n",
        "\n",
        "fig = plt.figure()\n",
        "ax0 = fig.add_subplot(111) \n",
        "RMSE_train = []\n",
        "RMSE_test = []\n",
        "alphas = np.arange(0.05, 0.9, 0.025)\n",
        "for alpha in alphas: \n",
        "  lm = linear_model.Lasso(alpha=alpha)\n",
        "  model = lm.fit(X,y) \n",
        "  #Predict query instances\n",
        "  predicted_train = model.predict(X)\n",
        "  predicted_test = model.predict(validationSet[featureCols])\n",
        "  #Calculate and append the RMSEs\n",
        "  RMSE_train.append(np.sqrt(metrics.mean_absolute_error(y, predicted_train)))\n",
        "  RMSE_test.append(np.sqrt(metrics.mean_absolute_error(y_test, predicted_test)))\n",
        "\n",
        "ax0.plot(alphas,RMSE_test,label='Test_Data')\n",
        "ax0.plot(alphas,RMSE_train,label='Train_Data')\n",
        "ax0.legend()\n",
        "ax0.set_title('RMSE with respect to the minumim number of instances per node')\n",
        "ax0.set_xlabel('#Instances')\n",
        "ax0.set_ylabel('RMSE')\n",
        "plt.show()"
      ],
      "execution_count": 86,
      "outputs": [
        {
          "output_type": "display_data",
          "data": {
            "image/png": "[encoded data removed]",
            "text/plain": [
              "<Figure size 432x288 with 1 Axes>"
            ]
          },
          "metadata": {
            "tags": []
          }
        }
      ]
    }
  ]
}